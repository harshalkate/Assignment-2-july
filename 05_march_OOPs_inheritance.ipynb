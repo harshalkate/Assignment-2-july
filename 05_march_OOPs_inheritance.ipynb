{
 "cells": [
  {
   "cell_type": "markdown",
   "id": "3102685e-9676-4033-b919-3fee26809947",
   "metadata": {},
   "source": [
    "1. Explain what inheritance is in object-oriented programming and why it is used.\n",
    "Ans: Inheritance allows programmers to create the classes that are built upon existing classes, to specify a new implementation while maintaining the same behaviors to reuse code and to independently extend original software via public classes and interfaces. "
   ]
  },
  {
   "cell_type": "markdown",
   "id": "ea1d10a4-35c9-477a-85fa-0ef732aabc11",
   "metadata": {},
   "source": [
    "2. Discuss the concept of single inheritance and multiple inheritance, highlighting their differences and advantages.\n",
    "Ans:In the case of single inheritance, the derived class performs the inheritance of a single base class. In this case of multiple inheritance, the derived class can acquire multiple base classes in it. The derived classes can utilize the features that belong to a single base class."
   ]
  },
  {
   "cell_type": "markdown",
   "id": "8c5b01e2-380f-4679-9de4-ccce4e2f2477",
   "metadata": {},
   "source": [
    "3. Explain the terms \"base class\" and \"derived class\" in the context of inheritance\n",
    "Ans:It allows you to define a child class that reuses means (inherits), extends, or modifies the behavior of a parent class. The class whose members are inherited is called the base class. The class that inherits the members of the base class is called the derived class."
   ]
  },
  {
   "cell_type": "markdown",
   "id": "233ea934-0dca-4764-b96f-47d95aae361e",
   "metadata": {},
   "source": [
    "4. What is the significance of the \"protected\" access modifier in inheritance? How does\n",
    "it differ from \"private\" and \"public\" modifiers?\n",
    "Ans:If a class member is declared as protected, it can only be accessed within the class itself and its parent and inherited classes.When a class member is declared as public, it can be accessed from anywhere. If a class member is declared as private, only the defining class can access it."
   ]
  },
  {
   "cell_type": "markdown",
   "id": "06ffddd5-675a-4d3f-a99d-16fe093d3627",
   "metadata": {},
   "source": [
    "5. What is the purpose of the \"super\" keyword in inheritance? Provide an example.\n",
    "Ans:he super keyword can be employed to access superclass variables. For example, if both the superclass and subclass have a variable called count, you can differentiate between them using super."
   ]
  },
  {
   "cell_type": "code",
   "execution_count": 9,
   "id": "7ef6e961-d2ee-489a-a78e-bb810f932bea",
   "metadata": {},
   "outputs": [],
   "source": [
    "#example of it.\n",
    "#created a class phone\n",
    "class Phone:\n",
    "    def __init__(self,name):\n",
    "        self.name=name\n",
    "#display it\n",
    "    def display(self):\n",
    "        print (f\"The phone is {self.name}\")\n",
    "# class brand is inheriting for phone class which is parent class\n",
    "class Brand(Phone):\n",
    "    def __init__(self,name,model):\n",
    "        super().__init__(name)\n",
    "        self.model = model\n",
    "#again defining the child class displaying process printing statement \n",
    "    def display(self):\n",
    "        super().display()\n",
    "        print(f\"The device model is {self.model}\")"
   ]
  },
  {
   "cell_type": "code",
   "execution_count": 10,
   "id": "dde55d7d-dff4-49ff-8e7f-b46eba614530",
   "metadata": {},
   "outputs": [
    {
     "name": "stdout",
     "output_type": "stream",
     "text": [
      "The phone is Motorola\n",
      "The device model is Edge20 fusion\n"
     ]
    }
   ],
   "source": [
    "my_brand = Brand(\"Motorola\",\"Edge20 fusion\")\n",
    "my_brand.display()"
   ]
  },
  {
   "cell_type": "markdown",
   "id": "a72dbdac-7a27-4666-a663-6ae2205a5ae0",
   "metadata": {},
   "source": [
    "6. Create a base class called \"Vehicle\" with attributes like \"make\", \"model\", and \"year\".\n",
    "Then, create a derived class called \"Car\" that inherits from \"Vehicle\" and adds an\n",
    "attribute called \"fuel_type\". Implement appropriate methods in both classes."
   ]
  },
  {
   "cell_type": "code",
   "execution_count": 4,
   "id": "676817f2-e62c-4a9d-8a25-0510cfa2a6f9",
   "metadata": {},
   "outputs": [
    {
     "name": "stdout",
     "output_type": "stream",
     "text": [
      "make morris garage model MG hector, year 2021\n",
      "make Tata model nexon, year 2020\n",
      "fuel contains EV\n"
     ]
    }
   ],
   "source": [
    "#created a class vehicle class by using the constructor\n",
    "\n",
    "class Vehicle:\n",
    "    def __init__(self,make,model,year):\n",
    "        self.make = make\n",
    "        self.model = model\n",
    "        self.year = year\n",
    "# defining it and written a printing statement for it\n",
    "    def display_info(self):\n",
    "        print(f\"make {self.make} model {self.model}, year {self.year}\")\n",
    "#created a class car and iheriting by vehicle class describing by using the constructor\n",
    "\n",
    "class Car(Vehicle):\n",
    "    def __init__(self,make,model,year,fuel_type):\n",
    "        super().__init__(make,model,year) # here using the super method for inheriting the parent constructor with that\n",
    "        self.fuel_type = fuel_type    \n",
    "# display statement for child class  \n",
    "    def display_info(self):\n",
    "        super().display_info()# using the super method for inheriting\n",
    "        print(f\"fuel contains {self.fuel_type}\")\n",
    "\n",
    "# example usage \n",
    "vehicle1 = Vehicle(\"morris garage\",\"MG hector\",2021)\n",
    "vehicle1.display_info()\n",
    "\n",
    "car1 = Car(\"Tata\",\"nexon\",2020,\"EV\")\n",
    "car1.display_info()"
   ]
  },
  {
   "cell_type": "markdown",
   "id": "c4b3281d-f4e8-4a29-abce-3c02b382a36d",
   "metadata": {},
   "source": [
    "7. Create a base class called \"Employee\" with attributes like \"name\" and \"salary.\"\n",
    "Derive two classes, \"Manager\" and \"Developer,\" from \"Employee.\" Add an additional\n",
    "attribute called \"department\" for the \"Manager\" class and \"programming_language\"\n",
    "for the \"Developer\" class."
   ]
  },
  {
   "cell_type": "code",
   "execution_count": 5,
   "id": "1bf9559b-f8f8-4c7c-be3f-e48fd615cabe",
   "metadata": {},
   "outputs": [
    {
     "name": "stdout",
     "output_type": "stream",
     "text": [
      "Name: shlolk pol, Salary: Rs 60000\n",
      "Name: Jay kate, Salary: Rs 80000\n",
      "Department: Engineering\n",
      "Name: Harshal kate, Salary: Rs 70000\n",
      "Programming Language: Python\n"
     ]
    }
   ],
   "source": [
    "#created a class Employee class by using the constructor\n",
    "class Employee:\n",
    "    def __init__(self, name, salary):\n",
    "        self.name = name\n",
    "        self.salary = salary\n",
    "# defining the display info() written the printing statement\n",
    "    def display_info(self):\n",
    "        print(f\"Name: {self.name}, Salary: Rs {self.salary}\")\n",
    "\n",
    "# iherit the manager class from the employee class\n",
    "class Manager(Employee):\n",
    "    def __init__(self, name, salary, department):\n",
    "        super().__init__(name, salary) #using the super method\n",
    "        self.department = department\n",
    "# defining the display info()\n",
    "    def display_info(self):\n",
    "        super().display_info()#using the super method for iheriting the display\n",
    "        print(f\"Department: {self.department}\")\n",
    "\n",
    "# iherit the Developer class from the employee class\n",
    "class Developer(Employee):\n",
    "    def __init__(self, name, salary, programming_language):\n",
    "        super().__init__(name, salary) #using the super method\n",
    "        self.programming_language = programming_language\n",
    "# defining the display info() written the printing statement        \n",
    "    def display_info(self):\n",
    "        super().display_info()\n",
    "        print(f\"Programming Language: {self.programming_language}\")\n",
    "\n",
    "\n",
    "# Example usage of it\n",
    "emp1 = Employee(\"shlolk pol\", 60000)\n",
    "emp1.display_info()\n",
    "\n",
    "manager1 = Manager(\"Jay kate\", 80000, \"Engineering\")\n",
    "manager1.display_info()\n",
    "\n",
    "developer_1 = Developer(\"Harshal kate\", 70000, \"Python\")\n",
    "developer_1.display_info()"
   ]
  },
  {
   "cell_type": "markdown",
   "id": "f8a22d13-3c7d-402e-abe6-261e270a60b0",
   "metadata": {},
   "source": [
    "8. Design a base class called \"Shape\" with attributes like \"colour\" and \"border_width.\"\n",
    "Create derived classes, \"Rectangle\" and \"Circle,\" that inherit from \"Shape\" and add\n",
    "specific attributes like \"length\" and \"width\" for the \"Rectangle\" class and \"radius\" for\n",
    "the \"Circle\" class."
   ]
  },
  {
   "cell_type": "code",
   "execution_count": 6,
   "id": "5f346469-8de8-4e8c-ad3e-aec0508cd001",
   "metadata": {},
   "outputs": [
    {
     "name": "stdout",
     "output_type": "stream",
     "text": [
      "Colour: Red, Border Width: 2\n",
      "Colour: Blue, Border Width: 2\n",
      "Length: 3, Width: 4\n",
      "Colour: Green, Border Width: 3\n",
      "Radius: 8\n"
     ]
    }
   ],
   "source": [
    "#created a class Shape class by using the constructor init\n",
    "class Shape:\n",
    "    def __init__(self, colour, border_width):\n",
    "        self.colour = colour\n",
    "        self.border_width = border_width\n",
    "# defining the display info written the printing statement\n",
    "    def display_info(self):\n",
    "        print(f\"Colour: {self.colour}, Border Width: {self.border_width}\")\n",
    "\n",
    "#created a  Rectangle class which is iheriting the class shape\n",
    "class Rectangle(Shape):\n",
    "    def __init__(self, colour, border_width, length, width):\n",
    "        super().__init__(colour, border_width)\n",
    "        self.length = length\n",
    "        self.width = width\n",
    "# defining the display info written the printing statement and super for iheriting constructer's\n",
    "    def display_info(self):\n",
    "        super().display_info()\n",
    "        print(f\"Length: {self.length}, Width: {self.width}\")# printing statement\n",
    "\n",
    "#created a class Circle class which is iheriting the class shape\n",
    "class Circle(Shape):\n",
    "    def __init__(self, colour, border_width, radius):\n",
    "        super().__init__(colour, border_width)\n",
    "        self.radius = radius\n",
    "# defining the display info written the printing statement and super for iheriting constructer's\n",
    "    def display_info(self):\n",
    "        super().display_info()\n",
    "        print(f\"Radius: {self.radius}\")# printing statement\n",
    "\n",
    "\n",
    "# creating a objects for the class\n",
    "shape1 = Shape(\"Red\", 2)\n",
    "shape1.display_info()\n",
    "\n",
    "rectangle1 = Rectangle(\"Blue\", 2,3, 4)\n",
    "rectangle1.display_info()\n",
    "\n",
    "circle1 = Circle(\"Green\", 3, 8)\n",
    "circle1.display_info()"
   ]
  },
  {
   "cell_type": "markdown",
   "id": "94f3bf86-4b62-4e97-8acc-8da712835925",
   "metadata": {},
   "source": [
    "9. Create a base class called \"Device\" with attributes like \"brand\" and \"model.\" Derive\n",
    "two classes, \"Phone\" and \"Tablet,\" from \"Device.\" Add specific attributes like\n",
    "\"screen_size\" for the \"Phone\" class and \"battery_capacity\" for the \"Tablet\" class."
   ]
  },
  {
   "cell_type": "code",
   "execution_count": 7,
   "id": "1ee16e00-57be-4915-9f25-2ec19b3959af",
   "metadata": {},
   "outputs": [
    {
     "name": "stdout",
     "output_type": "stream",
     "text": [
      "Brand: Motorola, Model: Edge 20\n",
      "Brand: IQOO, Model: z6\n",
      "Screen Size: 6.2 inches\n",
      "Brand: Apple, Model: tab1\n",
      "Battery carries: 50 Wh\n"
     ]
    }
   ],
   "source": [
    "#created a class Device class by using the constructor init\n",
    "class Device:\n",
    "    def __init__(self, brand, model):\n",
    "        self.brand = brand\n",
    "        self.model = model\n",
    "# defining the display info written the printing statement\n",
    "    def display_info(self):\n",
    "        print(f\"Brand: {self.brand}, Model: {self.model}\")\n",
    "\n",
    "#created a class Phone which is iheriting the class device \n",
    "class Phone(Device):\n",
    "    def __init__(self, brand, model, screen_size):\n",
    "        super().__init__(brand, model)\n",
    "        self.screen_size = screen_size\n",
    "# defining the display info written the printing statement\n",
    "    def display_info(self):\n",
    "        super().display_info()\n",
    "        print(f\"Screen Size: {self.screen_size}\")\n",
    "\n",
    "#created a class Tablet which is iheriting the class device \n",
    "class Tablet(Device):\n",
    "    def __init__(self, brand, model, battery_capacity):\n",
    "        super().__init__(brand, model)\n",
    "        self.battery_capacity = battery_capacity\n",
    "# defining the display info written the printing statement\n",
    "    def display_info(self):\n",
    "        super().display_info()\n",
    "        print(f\"Battery carries: {self.battery_capacity}\")\n",
    "\n",
    "\n",
    "# creating the objects for printing the output\n",
    "device1 = Device(\"Motorola\", \"Edge 20\")\n",
    "device1.display_info()\n",
    "\n",
    "phone1 = Phone(\"IQOO\", \"z6\", \"6.2 inches\")\n",
    "phone1.display_info()\n",
    "\n",
    "tablet1 = Tablet(\"Apple\", \"tab1\", \"50 Wh\")\n",
    "tablet1.display_info()\n"
   ]
  },
  {
   "cell_type": "markdown",
   "id": "8f965f75-1dbc-4227-b7c4-579f49416d1e",
   "metadata": {},
   "source": [
    "10. Create a base class called \"BankAccount\" with attributes like \"account_number\" and\n",
    "\"balance.\" Derive two classes, \"SavingsAccount\" and \"CheckingAccount,\" from\n",
    "\"BankAccount.\" Add specific methods like \"calculate_interest\" for the\n",
    "\"SavingsAccount\" class and \"deduct_fees\" for the \"CheckingAccount\" class."
   ]
  },
  {
   "cell_type": "code",
   "execution_count": 8,
   "id": "00d8f653-a749-45e3-8c41-18d23a2d8fb9",
   "metadata": {},
   "outputs": [
    {
     "name": "stdout",
     "output_type": "stream",
     "text": [
      "Account Number: 123456789, Balance: Rs1000\n",
      "Interest calculated. New balance: Rs1500.0\n",
      "Account Number: 987654321, Balance: Rs2000\n",
      "Fees deducted. New balance: Rs1900\n"
     ]
    }
   ],
   "source": [
    "#created class called bankaccount for the checking interest and balance of the customer's\n",
    "class BankAccount:\n",
    "    def __init__(self, account_number, balance):\n",
    "        self.account_number = account_number\n",
    "        self.balance = balance\n",
    "#defining the display info of the customer and the printing the info\n",
    "    def display_info(self):\n",
    "        print(f\"Account Number: {self.account_number}, Balance: Rs{self.balance}\")\n",
    "\n",
    "# class savingsAccount is iheriting  from bankaccount\n",
    "class SavingsAccount(BankAccount):\n",
    "    def __init__(self, account_number, balance):\n",
    "        super().__init__(account_number, balance)\n",
    "#defining the display info of the customer and the printing the info\n",
    "    def calculate_interest(self, interest_rate):\n",
    "        interest = self.balance * interest_rate# for calculating for interest for the amount\n",
    "        self.balance += interest\n",
    "        print(f\"Interest calculated. New balance: Rs{self.balance}\")\n",
    "\n",
    "# class CheckingAccount is iheriting i from bankaccount\n",
    "class CheckingAccount(BankAccount):\n",
    "    def __init__(self, account_number, balance):\n",
    "        super().__init__(account_number, balance)\n",
    "#defining the display info of the customer and the printing the info\n",
    "    def deduct_fees(self, fee):\n",
    "        self.balance -= fee   #for checkingAccount fee\n",
    "        print(f\"Fees deducted. New balance: Rs{self.balance}\")\n",
    "\n",
    "\n",
    "# creating the objects for printing the output of it\n",
    "savings_account1 = SavingsAccount(\"123456789\", 1000)\n",
    "savings_account1.display_info()\n",
    "savings_account1.calculate_interest(0.5)\n",
    "\n",
    "checking_account1 = CheckingAccount(\"987654321\", 2000)\n",
    "checking_account1.display_info()\n",
    "checking_account1.deduct_fees(100)\n"
   ]
  },
  {
   "cell_type": "code",
   "execution_count": null,
   "id": "3a7cf825-5ba3-485d-888e-cea5e79d233f",
   "metadata": {},
   "outputs": [],
   "source": []
  }
 ],
 "metadata": {
  "kernelspec": {
   "display_name": "Python 3 (ipykernel)",
   "language": "python",
   "name": "python3"
  },
  "language_info": {
   "codemirror_mode": {
    "name": "ipython",
    "version": 3
   },
   "file_extension": ".py",
   "mimetype": "text/x-python",
   "name": "python",
   "nbconvert_exporter": "python",
   "pygments_lexer": "ipython3",
   "version": "3.10.8"
  }
 },
 "nbformat": 4,
 "nbformat_minor": 5
}
